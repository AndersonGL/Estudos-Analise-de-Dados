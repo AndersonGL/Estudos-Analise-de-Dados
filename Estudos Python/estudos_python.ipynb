{
  "cells": [
    {
      "cell_type": "markdown",
      "metadata": {
        "id": "Eza4eD3Iis3j"
      },
      "source": [
        "# 1. - Sintaxe básica** <p>\n",
        "Podemos utilziar ' ' (aspas simples) <p>\n",
        "Podemos utilziar \" \" (aspas duplas) <p>\n",
        "Utilizando o \\n para pular uma linha na impressão do valor <p>\n",
        "Usamos o hastgag # para comentar algo\n",
        "Shift + Enter = Run"
      ]
    },
    {
      "cell_type": "code",
      "execution_count": null,
      "metadata": {
        "id": "4yTjamOgis3k",
        "outputId": "87f08ada-7380-4441-de04-3087a6f53c2c"
      },
      "outputs": [
        {
          "name": "stdout",
          "output_type": "stream",
          "text": [
            "Ola, Mundo!\n",
            "\n",
            "Ola, Mundo!\n"
          ]
        }
      ],
      "source": [
        "print('Ola, Mundo!\\n')\n",
        "\n",
        "print('Ola, Mundo!')"
      ]
    },
    {
      "cell_type": "code",
      "execution_count": null,
      "metadata": {
        "id": "o5Y2570Bis3l"
      },
      "outputs": [],
      "source": [
        "# comentários"
      ]
    },
    {
      "cell_type": "code",
      "execution_count": null,
      "metadata": {
        "id": "Y2k5TwKbis3l"
      },
      "outputs": [],
      "source": [
        "'''\n",
        "comentários\n",
        "\n",
        "'''"
      ]
    },
    {
      "cell_type": "code",
      "execution_count": null,
      "metadata": {
        "id": "_MnUuQ2zis3m",
        "outputId": "1c1e3a7d-6174-4471-f859-242f335726bf"
      },
      "outputs": [
        {
          "name": "stdout",
          "output_type": "stream",
          "text": [
            "Olá Mundo! \n",
            " pulei uma linha.\n"
          ]
        }
      ],
      "source": [
        "print('Olá Mundo! \\n pulei uma linha.')\n",
        "\n",
        "# \\n para pular linha"
      ]
    },
    {
      "cell_type": "markdown",
      "metadata": {
        "id": "AWoxXtc6is3m"
      },
      "source": [
        "# 2 . - Operadores matemáticos <p>\n",
        "Os operadores são usados ​​para realizar operações em variáveis ​​e valores:\n",
        "1. Soma\n",
        "2. Subtração\n",
        "3. Multiplicação\n",
        "4. Divisão\n",
        "5. Exponenciação\n",
        "6. Resto da Divisão\n",
        "7. Divisão de Chão"
      ]
    },
    {
      "cell_type": "code",
      "execution_count": null,
      "metadata": {
        "id": "HKy6X36-is3m",
        "outputId": "f9b6f35b-056d-4d3b-89b7-6ac8f658bc1c"
      },
      "outputs": [
        {
          "data": {
            "text/plain": [
              "8"
            ]
          },
          "execution_count": 3,
          "metadata": {},
          "output_type": "execute_result"
        }
      ],
      "source": [
        "# Soma\n",
        "\n",
        "1+3+4"
      ]
    },
    {
      "cell_type": "code",
      "execution_count": null,
      "metadata": {
        "id": "7vSsEEiWis3m",
        "outputId": "ca727d0b-b295-4da3-a8fe-1bae7087896c"
      },
      "outputs": [
        {
          "data": {
            "text/plain": [
              "1"
            ]
          },
          "execution_count": 5,
          "metadata": {},
          "output_type": "execute_result"
        }
      ],
      "source": [
        "# Subtração\n",
        "\n",
        "4-3"
      ]
    },
    {
      "cell_type": "code",
      "execution_count": null,
      "metadata": {
        "id": "vTgmSQRGis3m",
        "outputId": "2849044c-5851-4326-b250-5cf55ba9275f"
      },
      "outputs": [
        {
          "data": {
            "text/plain": [
              "16"
            ]
          },
          "execution_count": 6,
          "metadata": {},
          "output_type": "execute_result"
        }
      ],
      "source": [
        "# Multiplicação\n",
        "\n",
        "4 * 4\n"
      ]
    },
    {
      "cell_type": "code",
      "execution_count": null,
      "metadata": {
        "id": "MHwaXDYYis3m",
        "outputId": "5f50b695-e1f2-46d5-d92d-ce37d1e67857"
      },
      "outputs": [
        {
          "data": {
            "text/plain": [
              "1.0"
            ]
          },
          "execution_count": 7,
          "metadata": {},
          "output_type": "execute_result"
        }
      ],
      "source": [
        "# Divisão\n",
        "\n",
        "4 / 4"
      ]
    },
    {
      "cell_type": "code",
      "execution_count": null,
      "metadata": {
        "id": "NW01-BEcis3n",
        "outputId": "c9ac1183-1b4f-48e1-d38b-96b9b7b64bf4"
      },
      "outputs": [
        {
          "data": {
            "text/plain": [
              "27"
            ]
          },
          "execution_count": 12,
          "metadata": {},
          "output_type": "execute_result"
        }
      ],
      "source": [
        "# Exponenciação\n",
        "\n",
        "3 ** 3  #(3 * 3 * 3)\n",
        "\n"
      ]
    },
    {
      "cell_type": "code",
      "execution_count": null,
      "metadata": {
        "id": "7PJ1dwlTis3n",
        "outputId": "26a7f6ba-b43e-429d-f5a4-8aea0ce17afb"
      },
      "outputs": [
        {
          "data": {
            "text/plain": [
              "3"
            ]
          },
          "execution_count": 14,
          "metadata": {},
          "output_type": "execute_result"
        }
      ],
      "source": [
        "# Resto da divisão\n",
        "\n",
        "3 % 4"
      ]
    },
    {
      "cell_type": "code",
      "execution_count": null,
      "metadata": {
        "id": "D5kUQtvWis3n",
        "outputId": "324a27e4-d298-4c70-ff66-3ccef4dd872d"
      },
      "outputs": [
        {
          "data": {
            "text/plain": [
              "2"
            ]
          },
          "execution_count": 16,
          "metadata": {},
          "output_type": "execute_result"
        }
      ],
      "source": [
        "# Divisão de Chão\n",
        "\n",
        "8 // 4"
      ]
    },
    {
      "cell_type": "code",
      "execution_count": null,
      "metadata": {
        "id": "kRm7cmU5is3n",
        "outputId": "88fa6e97-2d3c-4235-80f4-47beebfaab59"
      },
      "outputs": [
        {
          "data": {
            "text/plain": [
              "12"
            ]
          },
          "execution_count": 17,
          "metadata": {},
          "output_type": "execute_result"
        }
      ],
      "source": [
        "# Priorização\n",
        "\n",
        "2 + 2 * 5"
      ]
    },
    {
      "cell_type": "code",
      "execution_count": null,
      "metadata": {
        "id": "kK4aZuufis3n",
        "outputId": "a9ff0ea6-c940-4aae-fe32-6f51eca7d620"
      },
      "outputs": [
        {
          "data": {
            "text/plain": [
              "20"
            ]
          },
          "execution_count": 18,
          "metadata": {},
          "output_type": "execute_result"
        }
      ],
      "source": [
        "(2 + 2)* 5   # Prioizar colocar entre parentes"
      ]
    },
    {
      "cell_type": "markdown",
      "metadata": {
        "id": "oTGGQCwYis3n"
      },
      "source": [
        "# 3º Variáveis\n",
        "Variáveis ​​são contêineres para armazenar valores de dados.<p>\n",
        "Uma variável é criada no momento em que você atribui um valor a ela."
      ]
    },
    {
      "cell_type": "code",
      "execution_count": null,
      "metadata": {
        "id": "5gpMC8Wiis3n",
        "outputId": "36b912dc-9551-40b0-df43-3b1070350738"
      },
      "outputs": [
        {
          "name": "stdout",
          "output_type": "stream",
          "text": [
            "anderson\n"
          ]
        }
      ],
      "source": [
        "# Variavéis\n",
        "\n",
        "nome = 'anderson'\n",
        "print(nome)\n"
      ]
    },
    {
      "cell_type": "code",
      "execution_count": null,
      "metadata": {
        "id": "sIo3Ni_His3n",
        "outputId": "3de99187-eba0-44b5-d9ff-a545dff01225"
      },
      "outputs": [
        {
          "name": "stdout",
          "output_type": "stream",
          "text": [
            "Variavel\n"
          ]
        }
      ],
      "source": [
        "qualquer_nome_quequiser = 'Variavel'\n",
        "print (qualquer_nome_quequiser)\n"
      ]
    },
    {
      "cell_type": "code",
      "execution_count": null,
      "metadata": {
        "id": "et8Ap5K5is3n",
        "outputId": "0f100018-e6b0-4c87-b930-862d00dfa794"
      },
      "outputs": [
        {
          "name": "stdout",
          "output_type": "stream",
          "text": [
            "Qualquer Coisa - Numero 123456\n"
          ]
        }
      ],
      "source": [
        "# Variaveis de Texto\n",
        "\n",
        "var_texto_1 = 'Qualquer Coisa - Numero'\n",
        "var_texto_2 =  str ('123456')\n",
        "print (var_texto_1, var_texto_2)"
      ]
    },
    {
      "cell_type": "code",
      "execution_count": null,
      "metadata": {
        "id": "4epPW7O_is3n",
        "outputId": "54b5380f-f041-4b59-8b82-605992572c2b"
      },
      "outputs": [
        {
          "name": "stdout",
          "output_type": "stream",
          "text": [
            "100 200\n"
          ]
        }
      ],
      "source": [
        "# Variaveis numericas\n",
        "\n",
        "var_inteiro_1 = 100\n",
        "var_inteiro_2 = int(200.50)\n",
        "\n",
        "print(var_inteiro_1, var_inteiro_2)\n",
        "\n"
      ]
    },
    {
      "cell_type": "code",
      "execution_count": null,
      "metadata": {
        "id": "qRWrhop8is3n",
        "outputId": "1791c38f-f42c-49f4-bd43-7b4787bb6eeb"
      },
      "outputs": [
        {
          "name": "stdout",
          "output_type": "stream",
          "text": [
            "10.9 10.9\n"
          ]
        }
      ],
      "source": [
        "# Variaveis Flutuantes\n",
        "\n",
        "var_flutuante_1 = 10.90\n",
        "var_flutuante_2 = float(10.90)\n",
        "print(var_flutuante_1, var_flutuante_2)"
      ]
    },
    {
      "cell_type": "code",
      "execution_count": null,
      "metadata": {
        "id": "oHNVrcK9is3n",
        "outputId": "e7349286-8148-425c-adf5-75bba6ed7596"
      },
      "outputs": [
        {
          "name": "stdout",
          "output_type": "stream",
          "text": [
            "True False\n"
          ]
        }
      ],
      "source": [
        "# Variaveis Boleanas\n",
        "\n",
        "var_boleano_1 = True\n",
        "var_boleano_2 = False\n",
        "\n",
        "print(var_boleano_1, var_boleano_2)"
      ]
    },
    {
      "cell_type": "markdown",
      "metadata": {
        "id": "81FXgFbEis3n"
      },
      "source": [
        "# **4º Tipos de Dados**\n",
        "1. Listas - São criadas usando [ ] (Colchetes)\n",
        "2. Tuplas - São criadas usando ( ) (Parenteses)\n",
        "3. Dicionários - São criadas usando { } (Chaves) <p>\n",
        "Esses tipos de dados podem receber qualquer tipo de informação, inclusive Operações Aritméticas"
      ]
    },
    {
      "cell_type": "code",
      "execution_count": null,
      "metadata": {
        "id": "2w-Mc9RCis3o",
        "outputId": "acb235e2-6826-4cb0-8a54-5c2758ea8e54"
      },
      "outputs": [
        {
          "data": {
            "text/plain": [
              "[1, 2, 3, 4, 5, 6, 7, 8]"
            ]
          },
          "execution_count": 5,
          "metadata": {},
          "output_type": "execute_result"
        }
      ],
      "source": [
        "# Listas\n",
        "\n",
        "Lista_Exemplo_01 = [1,2,3,4,5,6,7,8]\n",
        "Lista_Exemplo_01"
      ]
    },
    {
      "cell_type": "code",
      "execution_count": null,
      "metadata": {
        "id": "xPlG1ouris3o",
        "outputId": "0ba23f84-dc8b-4992-d239-89ccb54d15f5"
      },
      "outputs": [
        {
          "data": {
            "text/plain": [
              "['nome ', 'sobnrenome', 'idade', 4, 5]"
            ]
          },
          "execution_count": 13,
          "metadata": {},
          "output_type": "execute_result"
        }
      ],
      "source": [
        "Lista_Exemplo_02 = ['nome ','sobnrenome','idade' , 4 , 5]\n",
        "\n",
        "Lista_Exemplo_02"
      ]
    },
    {
      "cell_type": "code",
      "execution_count": null,
      "metadata": {
        "id": "gS4tvsWkis3o",
        "outputId": "5aafd0ae-fc20-49c3-975a-30baa381f68b"
      },
      "outputs": [
        {
          "data": {
            "text/plain": [
              "[1, 'Texto', True, 'idade', [1, 2, 3]]"
            ]
          },
          "execution_count": 16,
          "metadata": {},
          "output_type": "execute_result"
        }
      ],
      "source": [
        "Lista_Exemplo_03 = [1,'Texto',True,'idade', [1 , 2 , 3]]\n",
        "Lista_Exemplo_03"
      ]
    },
    {
      "cell_type": "code",
      "execution_count": null,
      "metadata": {
        "id": "VH2uZX9Sis3o",
        "outputId": "6c0fde09-6f6b-429f-909c-5a65aecc2419"
      },
      "outputs": [
        {
          "data": {
            "text/plain": [
              "((1, 2, 3, 4, 5), ('Texto', True, 2, 2.9))"
            ]
          },
          "execution_count": 17,
          "metadata": {},
          "output_type": "execute_result"
        }
      ],
      "source": [
        "# Tuplas são imutaveis, não altera valores.\n",
        "\n",
        "Tupla_Exemplo_1 =(1,2,3,4,5)\n",
        "Tupla_Exemplo_2 =('Texto', True, 2, 2.90)\n",
        "\n",
        "Tupla_Exemplo_1, Tupla_Exemplo_2\n"
      ]
    },
    {
      "cell_type": "code",
      "execution_count": null,
      "metadata": {
        "id": "n100y78qis3o",
        "outputId": "5ca55808-7162-4492-bd39-025fa7ba00a4"
      },
      "outputs": [
        {
          "data": {
            "text/plain": [
              "{'index': 'Valor',\n",
              " 'id': 2,\n",
              " 'Nome': 'Odemir',\n",
              " 'Lista': [1, 2, 3, 4, 5, 6, 7, 8],\n",
              " 'Tupla': (1, 2, 3, 4, 5)}"
            ]
          },
          "execution_count": 20,
          "metadata": {},
          "output_type": "execute_result"
        }
      ],
      "source": [
        "# Dicionários\n",
        "\n",
        "Dicionario = {\n",
        "\n",
        "    'index' : 'Valor',\n",
        "    'id' : 1,\n",
        "    'id' : 2,\n",
        "    'Nome' : 'Odemir',\n",
        "    'Lista' : Lista_Exemplo_01,\n",
        "    'Tupla' : Tupla_Exemplo_1\n",
        "\n",
        "\n",
        "}\n",
        "\n",
        "Dicionario"
      ]
    },
    {
      "cell_type": "markdown",
      "metadata": {
        "id": "_odD51__is3o"
      },
      "source": [
        "# 5º Nomeação de variáveis <p>\n",
        "Podemos nomear variáveis e tipos de dados de diversas formas:\n",
        "1. Declarar as variáveis em uma única linha de comando;\n",
        "2. Atribuir um valor à diversas variáveis;\n",
        "3. Declarar usando uma Lista;\n",
        "4. Combinar variáveis;\n",
        "5. Operar com operadores matemáticos;\n",
        "6. Muitos outros."
      ]
    },
    {
      "cell_type": "markdown",
      "metadata": {
        "id": "9eewaUdFis3o"
      },
      "source": []
    },
    {
      "cell_type": "code",
      "execution_count": null,
      "metadata": {
        "id": "eiWjcNMEis3o",
        "outputId": "3f898f16-5a24-4c8f-d4ad-8667e242da9f"
      },
      "outputs": [
        {
          "name": "stdout",
          "output_type": "stream",
          "text": [
            "1 2 3\n"
          ]
        }
      ],
      "source": [
        "# Nomeando\n",
        "\n",
        "Laranja, Melao, Limao = 1, 2, 3\n",
        "\n",
        "print(Laranja, Melao, Limao)"
      ]
    },
    {
      "cell_type": "code",
      "execution_count": null,
      "metadata": {
        "id": "fUvs6qlMis3o",
        "outputId": "9395e0da-eedb-4007-8630-41026e74901a"
      },
      "outputs": [
        {
          "name": "stdout",
          "output_type": "stream",
          "text": [
            "100 100 100\n"
          ]
        }
      ],
      "source": [
        "#Nomeando\n",
        "\n",
        "Morango = Uva = Kiwi = 100\n",
        "print (Morango, Uva , Kiwi)"
      ]
    },
    {
      "cell_type": "code",
      "execution_count": null,
      "metadata": {
        "id": "_CmigXLSis3o",
        "outputId": "c252590e-2bab-4032-f758-91000482aef9"
      },
      "outputs": [
        {
          "name": "stdout",
          "output_type": "stream",
          "text": [
            "Vw Audi Tesla\n"
          ]
        }
      ],
      "source": [
        "# Nomear com Listas\n",
        "\n",
        "Lista_Carros = ['Vw', 'Audi','Tesla']\n",
        "Matca_01, Marca_02, Marca_03 = Lista_Carros\n",
        "print (Matca_01, Marca_02, Marca_03)"
      ]
    },
    {
      "cell_type": "code",
      "execution_count": null,
      "metadata": {
        "id": "Bz6T1AMXis3o",
        "outputId": "785c3d6a-e19d-44e2-f06e-47dc9811124a"
      },
      "outputs": [
        {
          "name": "stdout",
          "output_type": "stream",
          "text": [
            "Anderson Gouveia Lignelli\n"
          ]
        }
      ],
      "source": [
        "# Combinar variaveis\n",
        "\n",
        "Nome = 'Anderson '\n",
        "Sobrenome = 'Gouveia '\n",
        "Ultimo_nome = 'Lignelli'\n",
        "\n",
        "Nome_Completo = Nome + Sobrenome + Ultimo_nome\n",
        "\n",
        "print(Nome_Completo)\n",
        "\n"
      ]
    },
    {
      "cell_type": "code",
      "execution_count": null,
      "metadata": {
        "id": "1NFZVXapis3o",
        "outputId": "0ae3965b-c301-4bc5-8b0c-43ee1df73f55"
      },
      "outputs": [
        {
          "data": {
            "text/plain": [
              "'Anderson 37 anos'"
            ]
          },
          "execution_count": 38,
          "metadata": {},
          "output_type": "execute_result"
        }
      ],
      "source": [
        "# Conquatenando String com número passando str\n",
        "\n",
        "Name = 'Anderson '\n",
        "Age  = str (37)\n",
        "\n",
        "Name + Age + ' anos'\n"
      ]
    },
    {
      "cell_type": "code",
      "execution_count": null,
      "metadata": {
        "id": "uvgZtaAdis3o",
        "outputId": "8b268749-48a2-4051-e661-131889d4bf99"
      },
      "outputs": [
        {
          "name": "stdout",
          "output_type": "stream",
          "text": [
            "200.0\n",
            "1200.0\n"
          ]
        }
      ],
      "source": [
        "# Conquatenando Número com Flotuante\n",
        "\n",
        "Investimento = 1000\n",
        "\n",
        "Taxa_Juros = float('0.2')\n",
        "\n",
        "print (Investimento * Taxa_Juros)\n",
        "\n",
        "Valor_Ganhado = (Investimento * Taxa_Juros) + Investimento\n",
        "\n",
        "print( Valor_Ganhado)\n",
        "\n",
        "\n"
      ]
    },
    {
      "cell_type": "code",
      "execution_count": null,
      "metadata": {
        "id": "7jzlNTGris3o",
        "outputId": "265fe7dc-9697-426a-9a5b-b554df095aef"
      },
      "outputs": [
        {
          "data": {
            "text/plain": [
              "2700.0"
            ]
          },
          "execution_count": 128,
          "metadata": {},
          "output_type": "execute_result"
        }
      ],
      "source": [
        "\n",
        "Ganho_Liquido = 10000\n",
        "Imposto_Renda = 0.27\n",
        "Ganho_Liquido * Imposto_Renda\n",
        "\n"
      ]
    },
    {
      "cell_type": "code",
      "execution_count": null,
      "metadata": {
        "id": "J7O26QRNis3p",
        "outputId": "ad569ad2-df0c-4815-b0f8-8908cd8d392c"
      },
      "outputs": [
        {
          "name": "stdout",
          "output_type": "stream",
          "text": [
            "7300.0\n"
          ]
        }
      ],
      "source": [
        "Imposto_Pago = 2700.0\n",
        "\n",
        "Recebidos = Ganho_Liquido - Imposto_Pago\n",
        "print(Recebidos)"
      ]
    },
    {
      "cell_type": "markdown",
      "metadata": {
        "id": "uRen_6Sris3x"
      },
      "source": [
        "# **6º Tipo da Informação**\n",
        "Na programação, o tipo de dados é um conceito importante.\n",
        "Variáveis ​​podem armazenar dados de diferentes tipos, e diferentes tipos podem fazer coisas diferentes.\n",
        "O Python tem os seguintes tipos de dados integrados por padrão, nestas categorias:\n",
        "1. Text Type: *str*\n",
        "2. Numeric Types:\t*int*, *float*, *complex*\n",
        "3. Sequence Types:\t*list*, *tuple*, *range*\n",
        "4. Mapping Type:\t*dict*\n",
        "5. Set Types:\t*set*, *frozenset*\n",
        "6. Boolean Type:\t*bool*\n",
        "7. Binary Types:\t*bytes*, *bytearray*, *memoryview*"
      ]
    },
    {
      "cell_type": "code",
      "source": [
        "string = str('Olá,Mundo!')\n",
        "inteiro = int(10)\n",
        "num_float = float(10.50)\n",
        "complexo = complex(1j)\n",
        "\n",
        "\n",
        "\n",
        "\n",
        "\n",
        "\n"
      ],
      "metadata": {
        "id": "Elzf8FO6i3wI",
        "outputId": "bdad4cf1-dcb1-4430-8c31-e0e0a2ea00cc",
        "colab": {
          "base_uri": "https://localhost:8080/",
          "height": 211
        }
      },
      "execution_count": 16,
      "outputs": [
        {
          "output_type": "error",
          "ename": "TypeError",
          "evalue": "'float' object is not callable",
          "traceback": [
            "\u001b[0;31m---------------------------------------------------------------------------\u001b[0m",
            "\u001b[0;31mTypeError\u001b[0m                                 Traceback (most recent call last)",
            "\u001b[0;32m<ipython-input-16-33b4310d5a84>\u001b[0m in \u001b[0;36m<cell line: 0>\u001b[0;34m()\u001b[0m\n\u001b[1;32m      1\u001b[0m \u001b[0mstring\u001b[0m \u001b[0;34m=\u001b[0m \u001b[0mstr\u001b[0m\u001b[0;34m(\u001b[0m\u001b[0;34m'Olá,Mundo!'\u001b[0m\u001b[0;34m)\u001b[0m\u001b[0;34m\u001b[0m\u001b[0;34m\u001b[0m\u001b[0m\n\u001b[1;32m      2\u001b[0m \u001b[0minteiro\u001b[0m \u001b[0;34m=\u001b[0m \u001b[0mint\u001b[0m\u001b[0;34m(\u001b[0m\u001b[0;36m10\u001b[0m\u001b[0;34m)\u001b[0m\u001b[0;34m\u001b[0m\u001b[0;34m\u001b[0m\u001b[0m\n\u001b[0;32m----> 3\u001b[0;31m \u001b[0mnum_float\u001b[0m \u001b[0;34m=\u001b[0m \u001b[0mfloat\u001b[0m\u001b[0;34m(\u001b[0m\u001b[0;36m10.50\u001b[0m\u001b[0;34m)\u001b[0m\u001b[0;34m\u001b[0m\u001b[0;34m\u001b[0m\u001b[0m\n\u001b[0m\u001b[1;32m      4\u001b[0m \u001b[0mcomplexo\u001b[0m \u001b[0;34m=\u001b[0m \u001b[0mcomplex\u001b[0m\u001b[0;34m(\u001b[0m\u001b[0;36m1j\u001b[0m\u001b[0;34m)\u001b[0m\u001b[0;34m\u001b[0m\u001b[0;34m\u001b[0m\u001b[0m\n\u001b[1;32m      5\u001b[0m \u001b[0;34m\u001b[0m\u001b[0m\n",
            "\u001b[0;31mTypeError\u001b[0m: 'float' object is not callable"
          ]
        }
      ]
    },
    {
      "cell_type": "markdown",
      "metadata": {
        "id": "iUYp-a6cis3x"
      },
      "source": [
        "# **7º Comando Round**\n",
        "Quando trabalhamos com números flutuantes, podemos arredondar o valor usando um comando nativo do Python<p>\n",
        "\n",
        "round( valor, número de casas)"
      ]
    },
    {
      "cell_type": "markdown",
      "metadata": {
        "id": "ZzBuSRUHis3x"
      },
      "source": [
        "# **8º Comando Len**\n",
        "A função len() retorna a quantidade de elementos de qualquer lista em Python, essa é mais uma função built-in e disponível em qualquer parte dos nossos códigos."
      ]
    },
    {
      "cell_type": "markdown",
      "metadata": {
        "id": "h00Emtr8is3x"
      },
      "source": [
        "# **9º Fatiamento de Strings**\n",
        "Strings são listas de bytes represetando caracteres.<p>\n",
        "Podemos acessar suas posições usando Colchetes<p>\n",
        "String [Posição Inicial: Posição Final]"
      ]
    },
    {
      "cell_type": "markdown",
      "metadata": {
        "id": "xW9P7o7Sis3x"
      },
      "source": [
        "# **10° Manipulação de Strings**<p>\n",
        "Um tipo de dados bastante usado no dia a dia são as strings, ou cadeias de caracteres (ou sequências de caracteres). O tipo de dados string, ou str como é chamado em Python, possui várias operações úteis associadas a ele. Essas operações tornam Python uma linguagem bastante propícia para manipulação de textos.\n",
        "Algumas funções mais utilizadas:\n",
        "\n",
        "1. replace()\n",
        "2. startswith()\n",
        "3. endswith()\n",
        "4. count()\n",
        "5. capitalize()\n",
        "6. isdigit()\n",
        "7. isalnum()\n",
        "8. upper()\n",
        "9. lower()\n",
        "10. find ()\n",
        "11. strip()\n",
        "12. split()"
      ]
    },
    {
      "cell_type": "markdown",
      "metadata": {
        "id": "Qgfd8QbJis3x"
      },
      "source": [
        "# **11º Comando Input**\n",
        "A função input() recebe como parâmetro uma string que será mostrada como auxílio ao usuário, geralmente o informando que tipo de dado o programa está aguardando receber.\n",
        "\n",
        "input()"
      ]
    },
    {
      "cell_type": "markdown",
      "metadata": {
        "id": "-N1oGPRYis3y"
      },
      "source": [
        "# **12º Operadores de Comparação**\n",
        "Os operadores de comparação são usados ​​para comparar dois valores:\n",
        "1. '==' ( Igual a )\n",
        "2. '!=' ( Diferente )\n",
        "3. '>' ( Maior )\n",
        "4. '<' ( Menor )\n",
        "5. '>=' ( Maior igual )\n",
        "6. '<=' ( Menor igual )"
      ]
    },
    {
      "cell_type": "markdown",
      "metadata": {
        "id": "i8ZP5vrYis3y"
      },
      "source": [
        "# **13º Operadores Lógicos**\n",
        "Os operadores lógicos são usados ​​para combinar instruções condicionais:\n",
        "1. and (Retorna True se ambas as declarações forem verdadeiras)\n",
        "2. or (Retorna True se uma das declarações for verdadeira)"
      ]
    },
    {
      "cell_type": "markdown",
      "metadata": {
        "id": "G1Ugprxcis3y"
      },
      "source": [
        "# **14º Operadores de Identidade**\n",
        "Os operadores de identidade são usados ​​para comparar os objetos, não se forem iguais, mas se forem realmente o mesmo objeto, com a mesma localização de memória:\n",
        "1. is (Retorna True se ambas as variáveis ​​forem o mesmo objeto)\n",
        "2. is not (Retorna True se ambas as variáveis ​​não forem o mesmo objeto)"
      ]
    },
    {
      "cell_type": "markdown",
      "metadata": {
        "id": "3mXHFgMFis3y"
      },
      "source": [
        "# **15º Operadores de Associação**\n",
        "Os operadores de associação são usados ​​para testar se uma sequência é apresentada em um objeto:\n",
        "1. in (Retorna True se uma sequência com o valor especificado estiver presente no objeto)\n",
        "2. not in (Retorna True se uma sequência com o valor especificado não estiver presente no objeto)"
      ]
    },
    {
      "cell_type": "markdown",
      "metadata": {
        "id": "i9nDKd6gis3y"
      },
      "source": [
        "# **16º Manipulando Listas**\n",
        "As listas são usadas para armazenar vários itens em uma única variável.\n",
        "\n",
        "As listas são um dos 4 tipos de dados internos do Python usados ​​para armazenar coleções de dados, os outros 3 são Tuple , Set e Dictionary , todos com qualidades e usos diferentes.<p>\n",
        "Comandos mais utilizados:\n",
        "1. append() - Para adicionar um item ao final da lista\n",
        "2. len() - Calcular o tamanho da lista\n",
        "3. [  ] - Acessar posições\n",
        "4. del() - Exlcuir um elemtno\n",
        "5. clear() - Limpar a lista\n",
        "6. insert() - Para inserir um item de lista em um índice especificado\n",
        "7. extend() - Anexar elementos de outra lista à lista atual\n",
        "8. remove() - Remove o item especificado\n",
        "9. pop() - Remove o índice especificado.\n",
        "10. sort() - Ordenar os valores\n",
        "11. copy() - Faz uma copia da Lista\n",
        "12. index() - Retorna o index do elemento da lista"
      ]
    },
    {
      "cell_type": "markdown",
      "metadata": {
        "id": "1299AkNTis3y"
      },
      "source": [
        "# **17º Pacote Externo - Datetime**\n",
        "O datetime módulo fornece classes para manipulação de datas e horas.\n"
      ]
    },
    {
      "cell_type": "markdown",
      "metadata": {
        "id": "ELM4betuis3y"
      },
      "source": [
        "# **18° Pacote Externo - Time**\n",
        "Este módulo fornece várias funções relacionadas ao tempo"
      ]
    },
    {
      "cell_type": "markdown",
      "metadata": {
        "id": "Rz6Nm9Kois3y"
      },
      "source": [
        "# 19º Pacote Externo - Math\n",
        "**negrito**O Python possui um conjunto de funções matemáticas integradas, incluindo um extenso módulo matemático, que permite realizar tarefas matemáticas em números."
      ]
    },
    {
      "cell_type": "markdown",
      "metadata": {
        "id": "76FQN6nBis3y"
      },
      "source": [
        "# **20° Pacote Externo - Random**\n",
        "Este módulo implementa geradores de números pseudo-aleatórios para várias distribuições."
      ]
    },
    {
      "cell_type": "markdown",
      "metadata": {
        "id": "Sy2u0Dotis3y"
      },
      "source": [
        "# **21° Pacote Externo - Statistics**\n",
        "Este módulo fornece funções para calcular estatísticas matemáticas de dados numéricos e interage com as listas"
      ]
    },
    {
      "cell_type": "markdown",
      "metadata": {
        "id": "K1o-1dc_is3y"
      },
      "source": [
        "# **22º Condição If**\n",
        "if é a declaração mais simples de tomada de decisão. <p>Ele é usado para decidir se uma determinada instrução ou bloco de instruções será executado ou não, ou seja, se uma determinada condição for verdadeira, um bloco de instruções será executado, caso contrário, não.\n",
        "\n",
        "if condição :<p>\n",
        "*   declarações a serem executadas se\n",
        "*   condição é verdadeira\n"
      ]
    },
    {
      "cell_type": "markdown",
      "metadata": {
        "id": "d3B7u64Ois3y"
      },
      "source": [
        "# **23º Estrutura de Loop For**\n",
        "O loop For do Python é usado para travessia seqüencial, ou seja, é usado para iterar sobre um iterável como string, tupla, lista, etc. Ele se enquadra na categoria de iteração definida . Iterações definidas significam que o número de repetições é especificado explicitamente com antecedência. <p>\n",
        "for variável in objeto:\n",
        "*   loop\n"
      ]
    },
    {
      "cell_type": "markdown",
      "metadata": {
        "id": "OukTkTPMis3y"
      },
      "source": [
        "# **24º Estrutura de Loop While**\n",
        "Python While Loop é usado para executar um bloco de instruções repetidamente até que uma determinada condição seja satisfeita. E quando a condição se torna falsa, a linha imediatamente após o loop no programa é executada. While loop se enquadra na categoria de iteração indefinida . A iteração indefinida significa que o número de vezes que o loop é executado não é especificado explicitamente com antecedência.<p>\n",
        "while expressão:\n",
        "*   loop"
      ]
    },
    {
      "cell_type": "markdown",
      "metadata": {
        "id": "gvdj2W3-is3y"
      },
      "source": [
        "# **25º Estrutura de Quebra Break e Continue**\n",
        "O uso de loops no Python automatiza e repete as tarefas de maneira eficiente. Mas, às vezes, pode surgir uma condição em que você deseja sair completamente do loop, pular uma iteração ou ignorar essa condição. Isso pode ser feito por instruções de controle de loop . As instruções de controle de loop alteram a execução de sua sequência normal. Quando a execução sai de um escopo, todos os objetos automáticos que foram criados nesse escopo são destruídos. Python suporta as seguintes instruções de controle."
      ]
    },
    {
      "cell_type": "markdown",
      "metadata": {
        "id": "Ccmmrntsis3y"
      },
      "source": [
        "# **26º Estrutura de Funções**\n",
        "Uma função é um bloco de código que só é executado quando é chamado.<p>\n",
        "Você pode passar dados, conhecidos como parâmetros, para uma função.<p>"
      ]
    },
    {
      "cell_type": "markdown",
      "metadata": {
        "id": "nXZViNbMis3y"
      },
      "source": [
        "# **27º Estrutura Lambda**\n",
        "Uma função lambda é uma pequena função anônima.<p>\n",
        "Uma função lambda pode receber qualquer número de argumentos, mas pode ter apenas uma expressão."
      ]
    },
    {
      "cell_type": "markdown",
      "metadata": {
        "id": "R-JorN96is3y"
      },
      "source": [
        "# **28º Estrutura TRY**\n",
        "O **try** permite testar um bloco de código quanto a erros.<p>\n",
        "O **except** permite que você lide com o erro.<p>\n",
        "O **else** permite executar código quando não há erro. <p>\n",
        "O **finally** permite que você execute código, independentemente do resultado dos blocos try e except. <p>"
      ]
    },
    {
      "cell_type": "markdown",
      "metadata": {
        "id": "9mc8k_Rvis3y"
      },
      "source": [
        "# 29° Estrutura de Classes/Objetos\n",
        "Python é uma linguagem de programação orientada a objetos.<p>\n",
        "Quase tudo em Python é um objeto, com suas propriedades e métodos.<p>\n",
        "Uma classe é como um construtor de objetos, ou um \"projeto\" para criar objetos."
      ]
    },
    {
      "cell_type": "markdown",
      "metadata": {
        "id": "mk7jAwFJis3y"
      },
      "source": [
        "# **30º Módulos/Pacotes**\n",
        "Considere um módulo como sendo o mesmo que uma biblioteca de código.<p>\n",
        "Para instalar um pacote utilize o 'pip install'"
      ]
    },
    {
      "cell_type": "code",
      "execution_count": null,
      "metadata": {
        "id": "7fbC2F4xis3z",
        "outputId": "d9fb78f2-8042-47ac-cccc-c8590add908e"
      },
      "outputs": [
        {
          "name": "stdout",
          "output_type": "stream",
          "text": [
            "Requirement already satisfied: django in c:\\users\\anderson g lignelli\\appdata\\local\\programs\\python\\python313\\lib\\site-packages (5.1.4)\n",
            "Requirement already satisfied: asgiref<4,>=3.8.1 in c:\\users\\anderson g lignelli\\appdata\\local\\programs\\python\\python313\\lib\\site-packages (from django) (3.8.1)\n",
            "Requirement already satisfied: sqlparse>=0.3.1 in c:\\users\\anderson g lignelli\\appdata\\local\\programs\\python\\python313\\lib\\site-packages (from django) (0.5.3)\n",
            "Requirement already satisfied: tzdata in c:\\users\\anderson g lignelli\\appdata\\local\\programs\\python\\python313\\lib\\site-packages (from django) (2024.2)\n",
            "Note: you may need to restart the kernel to use updated packages.\n",
            "Requirement already satisfied: matplotlib in c:\\users\\anderson g lignelli\\appdata\\local\\programs\\python\\python313\\lib\\site-packages (3.10.0)Note: you may need to restart the kernel to use updated packages.\n",
            "\n",
            "Requirement already satisfied: contourpy>=1.0.1 in c:\\users\\anderson g lignelli\\appdata\\local\\programs\\python\\python313\\lib\\site-packages (from matplotlib) (1.3.1)\n",
            "Requirement already satisfied: cycler>=0.10 in c:\\users\\anderson g lignelli\\appdata\\local\\programs\\python\\python313\\lib\\site-packages (from matplotlib) (0.12.1)\n",
            "Requirement already satisfied: fonttools>=4.22.0 in c:\\users\\anderson g lignelli\\appdata\\local\\programs\\python\\python313\\lib\\site-packages (from matplotlib) (4.55.6)\n",
            "Requirement already satisfied: kiwisolver>=1.3.1 in c:\\users\\anderson g lignelli\\appdata\\local\\programs\\python\\python313\\lib\\site-packages (from matplotlib) (1.4.8)\n",
            "Requirement already satisfied: numpy>=1.23 in c:\\users\\anderson g lignelli\\appdata\\local\\programs\\python\\python313\\lib\\site-packages (from matplotlib) (2.2.2)\n",
            "Requirement already satisfied: packaging>=20.0 in c:\\users\\anderson g lignelli\\appdata\\roaming\\python\\python313\\site-packages (from matplotlib) (24.2)\n",
            "Requirement already satisfied: pillow>=8 in c:\\users\\anderson g lignelli\\appdata\\local\\programs\\python\\python313\\lib\\site-packages (from matplotlib) (11.1.0)\n",
            "Requirement already satisfied: pyparsing>=2.3.1 in c:\\users\\anderson g lignelli\\appdata\\local\\programs\\python\\python313\\lib\\site-packages (from matplotlib) (3.2.1)\n",
            "Requirement already satisfied: python-dateutil>=2.7 in c:\\users\\anderson g lignelli\\appdata\\roaming\\python\\python313\\site-packages (from matplotlib) (2.9.0.post0)\n",
            "Requirement already satisfied: six>=1.5 in c:\\users\\anderson g lignelli\\appdata\\roaming\\python\\python313\\site-packages (from python-dateutil>=2.7->matplotlib) (1.17.0)\n",
            "Requirement already satisfied: numpy in c:\\users\\anderson g lignelli\\appdata\\local\\programs\\python\\python313\\lib\\site-packages (2.2.2)\n",
            "Note: you may need to restart the kernel to use updated packages.\n",
            "Requirement already satisfied: pandas in c:\\users\\anderson g lignelli\\appdata\\local\\programs\\python\\python313\\lib\\site-packages (2.2.3)Note: you may need to restart the kernel to use updated packages.\n",
            "\n",
            "Requirement already satisfied: numpy>=1.26.0 in c:\\users\\anderson g lignelli\\appdata\\local\\programs\\python\\python313\\lib\\site-packages (from pandas) (2.2.2)\n",
            "Requirement already satisfied: python-dateutil>=2.8.2 in c:\\users\\anderson g lignelli\\appdata\\roaming\\python\\python313\\site-packages (from pandas) (2.9.0.post0)\n",
            "Requirement already satisfied: pytz>=2020.1 in c:\\users\\anderson g lignelli\\appdata\\local\\programs\\python\\python313\\lib\\site-packages (from pandas) (2024.2)\n",
            "Requirement already satisfied: tzdata>=2022.7 in c:\\users\\anderson g lignelli\\appdata\\local\\programs\\python\\python313\\lib\\site-packages (from pandas) (2024.2)\n",
            "Requirement already satisfied: six>=1.5 in c:\\users\\anderson g lignelli\\appdata\\roaming\\python\\python313\\site-packages (from python-dateutil>=2.8.2->pandas) (1.17.0)\n"
          ]
        }
      ],
      "source": [
        "%pip install django\n",
        "%pip install matplotlib\n",
        "%pip install numpy\n",
        "%pip install pandas"
      ]
    },
    {
      "cell_type": "code",
      "execution_count": null,
      "metadata": {
        "id": "GckmvW0xis3z",
        "outputId": "fd901775-dae4-4512-ce07-2f1fa9402499"
      },
      "outputs": [
        {
          "name": "stdout",
          "output_type": "stream",
          "text": [
            "Requirement already satisfied: numpy in c:\\users\\anderson g lignelli\\appdata\\local\\programs\\python\\python313\\lib\\site-packages (2.2.2)\n",
            "Note: you may need to restart the kernel to use updated packages.\n"
          ]
        }
      ],
      "source": [
        "%pip install numpy\n",
        "\n",
        "import django\n",
        "import time\n",
        "import datetime\n",
        "import pandas as pd\n",
        "import numpy as np\n",
        "import matplotlib.pyplot as plt\n"
      ]
    },
    {
      "cell_type": "markdown",
      "metadata": {
        "id": "2DCD149sis3z"
      },
      "source": [
        "# **31° Print formatado**\n",
        "Existe diversas formas de utilizar prints no python"
      ]
    },
    {
      "cell_type": "code",
      "execution_count": null,
      "metadata": {
        "id": "S3icIvRris3z",
        "outputId": "d243414c-7674-4d96-866c-ecb7dd147e5c"
      },
      "outputs": [
        {
          "name": "stdout",
          "output_type": "stream",
          "text": [
            "Soma de 2 + 2 é: 4\n"
          ]
        }
      ],
      "source": [
        "print('Soma de 2 + 2 é:', 2 + 2)"
      ]
    },
    {
      "cell_type": "code",
      "execution_count": null,
      "metadata": {
        "id": "xI-J85N0is3z",
        "outputId": "c30cd448-14de-43a0-96c0-82505fefe4b9"
      },
      "outputs": [
        {
          "name": "stdout",
          "output_type": "stream",
          "text": [
            "Soma de 2 + 2 é: 4\n"
          ]
        }
      ],
      "source": [
        "# ultilizando f string\n",
        "\n",
        "print(f'Soma de 2 + 2 é: { 2 + 2}')"
      ]
    },
    {
      "cell_type": "code",
      "execution_count": null,
      "metadata": {
        "id": "oacWs60Gis3z",
        "outputId": "13c586ef-5267-494d-ad3d-c8045c0ac91f"
      },
      "outputs": [
        {
          "name": "stdout",
          "output_type": "stream",
          "text": [
            "Soma de 2 + 2 é: 4\n"
          ]
        }
      ],
      "source": [
        "# Outra maniera de passar o format\n",
        "\n",
        "print('Soma de 2 + 2 é: {}'.format(2+2) )"
      ]
    },
    {
      "cell_type": "code",
      "execution_count": null,
      "metadata": {
        "id": "IQSaC-NIis3z"
      },
      "outputs": [],
      "source": []
    },
    {
      "cell_type": "markdown",
      "metadata": {
        "id": "cItTkA8xis3z"
      },
      "source": [
        "# **Exercicios de Python para resolver!**"
      ]
    }
  ],
  "metadata": {
    "kernelspec": {
      "display_name": "Python 3",
      "language": "python",
      "name": "python3"
    },
    "language_info": {
      "codemirror_mode": {
        "name": "ipython",
        "version": 3
      },
      "file_extension": ".py",
      "mimetype": "text/x-python",
      "name": "python",
      "nbconvert_exporter": "python",
      "pygments_lexer": "ipython3",
      "version": "3.13.1"
    },
    "colab": {
      "provenance": []
    }
  },
  "nbformat": 4,
  "nbformat_minor": 0
}