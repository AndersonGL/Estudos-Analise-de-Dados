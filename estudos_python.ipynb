{
 "cells": [
  {
   "cell_type": "markdown",
   "metadata": {},
   "source": [
    "# 1. - Sintaxe básica** <p>\n",
    "Podemos utilziar ' ' (aspas simples) <p>\n",
    "Podemos utilziar \" \" (aspas duplas) <p>\n",
    "Utilizando o \\n para pular uma linha na impressão do valor <p>\n",
    "Usamos o hastgag # para comentar algo\n",
    "Shift + Enter = Run"
   ]
  },
  {
   "cell_type": "code",
   "execution_count": 7,
   "metadata": {},
   "outputs": [
    {
     "name": "stdout",
     "output_type": "stream",
     "text": [
      "Ola, Mundo!\n",
      "\n",
      "Ola, Mundo!\n"
     ]
    }
   ],
   "source": [
    "print('Ola, Mundo!\\n')\n",
    "\n",
    "print('Ola, Mundo!')"
   ]
  },
  {
   "cell_type": "code",
   "execution_count": null,
   "metadata": {},
   "outputs": [],
   "source": [
    "# comentários"
   ]
  },
  {
   "cell_type": "code",
   "execution_count": null,
   "metadata": {},
   "outputs": [],
   "source": [
    "''' \n",
    "comentários\n",
    "\n",
    "'''"
   ]
  },
  {
   "cell_type": "code",
   "execution_count": 1,
   "metadata": {},
   "outputs": [
    {
     "name": "stdout",
     "output_type": "stream",
     "text": [
      "Olá Mundo! \n",
      " pulei uma linha.\n"
     ]
    }
   ],
   "source": [
    "print('Olá Mundo! \\n pulei uma linha.')\n",
    "\n",
    "# \\n para pular linha"
   ]
  },
  {
   "cell_type": "markdown",
   "metadata": {},
   "source": [
    "# 2 . - Operadores matemáticos <p>\n",
    "Os operadores são usados ​​para realizar operações em variáveis ​​e valores:\n",
    "1. Soma\n",
    "2. Subtração\n",
    "3. Multiplicação\n",
    "4. Divisão\n",
    "5. Exponenciação\n",
    "6. Resto da Divisão\n",
    "7. Divisão de Chão"
   ]
  },
  {
   "cell_type": "code",
   "execution_count": null,
   "metadata": {},
   "outputs": [
    {
     "data": {
      "text/plain": [
       "8"
      ]
     },
     "execution_count": 3,
     "metadata": {},
     "output_type": "execute_result"
    }
   ],
   "source": [
    "# Soma\n",
    "\n",
    "1+3+4"
   ]
  },
  {
   "cell_type": "code",
   "execution_count": null,
   "metadata": {},
   "outputs": [
    {
     "data": {
      "text/plain": [
       "1"
      ]
     },
     "execution_count": 5,
     "metadata": {},
     "output_type": "execute_result"
    }
   ],
   "source": [
    "# Subtração\n",
    "\n",
    "4-3"
   ]
  },
  {
   "cell_type": "code",
   "execution_count": 6,
   "metadata": {},
   "outputs": [
    {
     "data": {
      "text/plain": [
       "16"
      ]
     },
     "execution_count": 6,
     "metadata": {},
     "output_type": "execute_result"
    }
   ],
   "source": [
    "# Multiplicação\n",
    "\n",
    "4 * 4\n"
   ]
  },
  {
   "cell_type": "code",
   "execution_count": 7,
   "metadata": {},
   "outputs": [
    {
     "data": {
      "text/plain": [
       "1.0"
      ]
     },
     "execution_count": 7,
     "metadata": {},
     "output_type": "execute_result"
    }
   ],
   "source": [
    "# Divisão\n",
    "\n",
    "4 / 4"
   ]
  },
  {
   "cell_type": "code",
   "execution_count": 12,
   "metadata": {},
   "outputs": [
    {
     "data": {
      "text/plain": [
       "27"
      ]
     },
     "execution_count": 12,
     "metadata": {},
     "output_type": "execute_result"
    }
   ],
   "source": [
    "# Exponenciação\n",
    "\n",
    "3 ** 3  #(3 * 3 * 3)\n",
    "\n"
   ]
  },
  {
   "cell_type": "code",
   "execution_count": 14,
   "metadata": {},
   "outputs": [
    {
     "data": {
      "text/plain": [
       "3"
      ]
     },
     "execution_count": 14,
     "metadata": {},
     "output_type": "execute_result"
    }
   ],
   "source": [
    "# Resto da divisão\n",
    "\n",
    "3 % 4 "
   ]
  },
  {
   "cell_type": "code",
   "execution_count": 16,
   "metadata": {},
   "outputs": [
    {
     "data": {
      "text/plain": [
       "2"
      ]
     },
     "execution_count": 16,
     "metadata": {},
     "output_type": "execute_result"
    }
   ],
   "source": [
    "# Divisão de Chão\n",
    "\n",
    "8 // 4"
   ]
  },
  {
   "cell_type": "code",
   "execution_count": 17,
   "metadata": {},
   "outputs": [
    {
     "data": {
      "text/plain": [
       "12"
      ]
     },
     "execution_count": 17,
     "metadata": {},
     "output_type": "execute_result"
    }
   ],
   "source": [
    "# Priorização\n",
    "\n",
    "2 + 2 * 5"
   ]
  },
  {
   "cell_type": "code",
   "execution_count": null,
   "metadata": {},
   "outputs": [
    {
     "data": {
      "text/plain": [
       "20"
      ]
     },
     "execution_count": 18,
     "metadata": {},
     "output_type": "execute_result"
    }
   ],
   "source": [
    "(2 + 2)* 5   # Prioizar colocar entre parentes"
   ]
  },
  {
   "cell_type": "markdown",
   "metadata": {},
   "source": [
    "# 3º Variáveis\n",
    "Variáveis ​​são contêineres para armazenar valores de dados.<p>\n",
    "Uma variável é criada no momento em que você atribui um valor a ela."
   ]
  },
  {
   "cell_type": "code",
   "execution_count": 22,
   "metadata": {},
   "outputs": [
    {
     "name": "stdout",
     "output_type": "stream",
     "text": [
      "anderson\n"
     ]
    }
   ],
   "source": [
    "# Variavéis\n",
    "\n",
    "nome = 'anderson'\n",
    "print(nome)\n"
   ]
  },
  {
   "cell_type": "code",
   "execution_count": 24,
   "metadata": {},
   "outputs": [
    {
     "name": "stdout",
     "output_type": "stream",
     "text": [
      "Variavel\n"
     ]
    }
   ],
   "source": [
    "qualquer_nome_quequiser = 'Variavel'\n",
    "print (qualquer_nome_quequiser)\n"
   ]
  },
  {
   "cell_type": "code",
   "execution_count": 26,
   "metadata": {},
   "outputs": [
    {
     "name": "stdout",
     "output_type": "stream",
     "text": [
      "Qualquer Coisa - Numero 123456\n"
     ]
    }
   ],
   "source": [
    "# Variaveis de Texto\n",
    "\n",
    "var_texto_1 = 'Qualquer Coisa - Numero'\n",
    "var_texto_2 =  str ('123456')\n",
    "print (var_texto_1, var_texto_2)"
   ]
  },
  {
   "cell_type": "code",
   "execution_count": 30,
   "metadata": {},
   "outputs": [
    {
     "name": "stdout",
     "output_type": "stream",
     "text": [
      "100 200\n"
     ]
    }
   ],
   "source": [
    "# Variaveis numericas\n",
    "\n",
    "var_inteiro_1 = 100\n",
    "var_inteiro_2 = int(200.50)\n",
    "\n",
    "print(var_inteiro_1, var_inteiro_2)\n",
    "\n"
   ]
  },
  {
   "cell_type": "code",
   "execution_count": 32,
   "metadata": {},
   "outputs": [
    {
     "name": "stdout",
     "output_type": "stream",
     "text": [
      "10.9 10.9\n"
     ]
    }
   ],
   "source": [
    "# Variaveis Flutuantes\n",
    "\n",
    "var_flutuante_1 = 10.90\n",
    "var_flutuante_2 = float(10.90)\n",
    "print(var_flutuante_1, var_flutuante_2)"
   ]
  },
  {
   "cell_type": "code",
   "execution_count": 33,
   "metadata": {},
   "outputs": [
    {
     "name": "stdout",
     "output_type": "stream",
     "text": [
      "True False\n"
     ]
    }
   ],
   "source": [
    "# Variaveis Boleanas\n",
    "\n",
    "var_boleano_1 = True\n",
    "var_boleano_2 = False\n",
    "\n",
    "print(var_boleano_1, var_boleano_2)"
   ]
  },
  {
   "cell_type": "markdown",
   "metadata": {},
   "source": [
    "# **4º Tipos de Dados**\n",
    "1. Listas - São criadas usando [ ] (Colchetes)\n",
    "2. Tuplas - São criadas usando ( ) (Parenteses)\n",
    "3. Dicionários - São criadas usando { } (Chaves) <p>\n",
    "Esses tipos de dados podem receber qualquer tipo de informação, inclusive Operações Aritméticas"
   ]
  },
  {
   "cell_type": "code",
   "execution_count": 5,
   "metadata": {},
   "outputs": [
    {
     "data": {
      "text/plain": [
       "[1, 2, 3, 4, 5, 6, 7, 8]"
      ]
     },
     "execution_count": 5,
     "metadata": {},
     "output_type": "execute_result"
    }
   ],
   "source": [
    "# Listas\n",
    "\n",
    "Lista_Exemplo_01 = [1,2,3,4,5,6,7,8]\n",
    "Lista_Exemplo_01"
   ]
  },
  {
   "cell_type": "code",
   "execution_count": 13,
   "metadata": {},
   "outputs": [
    {
     "data": {
      "text/plain": [
       "['nome ', 'sobnrenome', 'idade', 4, 5]"
      ]
     },
     "execution_count": 13,
     "metadata": {},
     "output_type": "execute_result"
    }
   ],
   "source": [
    "Lista_Exemplo_02 = ['nome ','sobnrenome','idade' , 4 , 5]\n",
    "\n",
    "Lista_Exemplo_02"
   ]
  },
  {
   "cell_type": "code",
   "execution_count": 16,
   "metadata": {},
   "outputs": [
    {
     "data": {
      "text/plain": [
       "[1, 'Texto', True, 'idade', [1, 2, 3]]"
      ]
     },
     "execution_count": 16,
     "metadata": {},
     "output_type": "execute_result"
    }
   ],
   "source": [
    "Lista_Exemplo_03 = [1,'Texto',True,'idade', [1 , 2 , 3]]\n",
    "Lista_Exemplo_03"
   ]
  },
  {
   "cell_type": "code",
   "execution_count": null,
   "metadata": {},
   "outputs": [
    {
     "data": {
      "text/plain": [
       "((1, 2, 3, 4, 5), ('Texto', True, 2, 2.9))"
      ]
     },
     "execution_count": 17,
     "metadata": {},
     "output_type": "execute_result"
    }
   ],
   "source": [
    "# Tuplas são imutaveis, não altera valores.\n",
    "\n",
    "Tupla_Exemplo_1 =(1,2,3,4,5)\n",
    "Tupla_Exemplo_2 =('Texto', True, 2, 2.90)\n",
    "\n",
    "Tupla_Exemplo_1, Tupla_Exemplo_2\n"
   ]
  },
  {
   "cell_type": "code",
   "execution_count": 20,
   "metadata": {},
   "outputs": [
    {
     "data": {
      "text/plain": [
       "{'index': 'Valor',\n",
       " 'id': 2,\n",
       " 'Nome': 'Odemir',\n",
       " 'Lista': [1, 2, 3, 4, 5, 6, 7, 8],\n",
       " 'Tupla': (1, 2, 3, 4, 5)}"
      ]
     },
     "execution_count": 20,
     "metadata": {},
     "output_type": "execute_result"
    }
   ],
   "source": [
    "# Dicionários\n",
    "\n",
    "Dicionario = {\n",
    "    \n",
    "    'index' : 'Valor',\n",
    "    'id' : 1,\n",
    "    'id' : 2,\n",
    "    'Nome' : 'Odemir',\n",
    "    'Lista' : Lista_Exemplo_01,\n",
    "    'Tupla' : Tupla_Exemplo_1\n",
    "    \n",
    "       \n",
    "}\n",
    "\n",
    "Dicionario"
   ]
  },
  {
   "cell_type": "markdown",
   "metadata": {},
   "source": [
    "# 5º Nomeação de variáveis <p>\n",
    "Podemos nomear variáveis e tipos de dados de diversas formas:\n",
    "1. Declarar as variáveis em uma única linha de comando;\n",
    "2. Atribuir um valor à diversas variáveis;\n",
    "3. Declarar usando uma Lista;\n",
    "4. Combinar variáveis;\n",
    "5. Operar com operadores matemáticos;\n",
    "6. Muitos outros."
   ]
  },
  {
   "cell_type": "markdown",
   "metadata": {},
   "source": []
  }
 ],
 "metadata": {
  "kernelspec": {
   "display_name": "Python 3",
   "language": "python",
   "name": "python3"
  },
  "language_info": {
   "codemirror_mode": {
    "name": "ipython",
    "version": 3
   },
   "file_extension": ".py",
   "mimetype": "text/x-python",
   "name": "python",
   "nbconvert_exporter": "python",
   "pygments_lexer": "ipython3",
   "version": "3.13.1"
  }
 },
 "nbformat": 4,
 "nbformat_minor": 2
}
