{
 "cells": [
  {
   "cell_type": "markdown",
   "metadata": {},
   "source": [
    "**Biblioteca BrazilCep para consultas de endereços sem precisar de api**"
   ]
  },
  {
   "cell_type": "code",
   "execution_count": null,
   "metadata": {},
   "outputs": [
    {
     "name": "stdout",
     "output_type": "stream",
     "text": [
      "Requirement already satisfied: brazilcep in c:\\users\\anderson g lignelli\\appdata\\local\\programs\\python\\python313\\lib\\site-packages (6.7.0)\n",
      "Requirement already satisfied: requests>=2.28.2 in c:\\users\\anderson g lignelli\\appdata\\local\\programs\\python\\python313\\lib\\site-packages (from brazilcep) (2.32.3)\n",
      "Requirement already satisfied: charset-normalizer<4,>=2 in c:\\users\\anderson g lignelli\\appdata\\local\\programs\\python\\python313\\lib\\site-packages (from requests>=2.28.2->brazilcep) (3.4.1)\n",
      "Requirement already satisfied: idna<4,>=2.5 in c:\\users\\anderson g lignelli\\appdata\\local\\programs\\python\\python313\\lib\\site-packages (from requests>=2.28.2->brazilcep) (3.10)\n",
      "Requirement already satisfied: urllib3<3,>=1.21.1 in c:\\users\\anderson g lignelli\\appdata\\local\\programs\\python\\python313\\lib\\site-packages (from requests>=2.28.2->brazilcep) (2.3.0)\n",
      "Requirement already satisfied: certifi>=2017.4.17 in c:\\users\\anderson g lignelli\\appdata\\local\\programs\\python\\python313\\lib\\site-packages (from requests>=2.28.2->brazilcep) (2024.12.14)\n",
      "Note: you may need to restart the kernel to use updated packages.\n"
     ]
    }
   ],
   "source": [
    "%pip install brazilcep\n",
    "\n",
    "\n",
    "import brazilcep "
   ]
  },
  {
   "cell_type": "code",
   "execution_count": 17,
   "metadata": {},
   "outputs": [],
   "source": [
    "from brazilcep import get_address_from_cep"
   ]
  },
  {
   "cell_type": "code",
   "execution_count": 22,
   "metadata": {},
   "outputs": [
    {
     "data": {
      "text/plain": [
       "{'district': 'Pilar Velho',\n",
       " 'cep': '09432-160',\n",
       " 'city': 'Ribeirão Pires',\n",
       " 'street': 'Rua do Tejo',\n",
       " 'uf': 'SP',\n",
       " 'complement': ''}"
      ]
     },
     "execution_count": 22,
     "metadata": {},
     "output_type": "execute_result"
    }
   ],
   "source": [
    "get_address_from_cep('09432-160')"
   ]
  }
 ],
 "metadata": {
  "kernelspec": {
   "display_name": "Python 3",
   "language": "python",
   "name": "python3"
  },
  "language_info": {
   "codemirror_mode": {
    "name": "ipython",
    "version": 3
   },
   "file_extension": ".py",
   "mimetype": "text/x-python",
   "name": "python",
   "nbconvert_exporter": "python",
   "pygments_lexer": "ipython3",
   "version": "3.13.2"
  }
 },
 "nbformat": 4,
 "nbformat_minor": 2
}
